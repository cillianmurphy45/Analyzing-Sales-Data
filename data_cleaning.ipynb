{
 "cells": [
  {
   "cell_type": "markdown",
   "id": "1ed171c4",
   "metadata": {},
   "source": [
    "# <font color='blue'>Analyzing Sales Data for Data Visualization and Insights Module</font>"
   ]
  },
  {
   "cell_type": "markdown",
   "id": "0b0f9fd7",
   "metadata": {},
   "source": [
    "## Imports"
   ]
  },
  {
   "cell_type": "code",
   "execution_count": 1,
   "id": "9fe59d14",
   "metadata": {},
   "outputs": [],
   "source": [
    "import pandas as pd\n",
    "import matplotlib.pyplot as plt"
   ]
  },
  {
   "cell_type": "markdown",
   "id": "67c4bd66",
   "metadata": {},
   "source": [
    "## Data\n",
    "- Contains Fictitous sales Data on 100 different products for furniture, food, electronics and clothing\n",
    "- Columns in the Dataset (Taken directly from Kaggle at [Sales Data Dataset Link](https://www.kaggle.com/datasets/vinothkannaece/sales-dataset)):\n",
    "- Product_ID: Unique identifier for each product sold. Randomly generated for practice purposes.\n",
    "- Sale_Date: The date when the sale occurred. Randomly selected from the year 2023.\n",
    "- Sales_Rep: The sales representative responsible for the transaction. The dataset includes five random sales representatives (Alice, Bob, Charlie, David, Eve).\n",
    "- Region: The region where the sale took place. The possible regions are North, South, East, and West.\n",
    "- Sales_Amount: The total sales amount for the transaction, including discounts if any. Values range from 100 to 10,000 (in currency units).\n",
    "- Quantity_Sold: The number of units sold in that transaction, randomly generated between 1 and 50.\n",
    "- Product_Category: The category of the product sold. Categories include Electronics, Furniture, Clothing, and Food.\n",
    "- Unit_Cost: The cost per unit of the product sold, randomly generated between 50 and 5000 currency units.\n",
    "- Unit_Price: The selling price per unit of the product, calculated to be higher than the unit cost.\n",
    "- Customer_Type: Indicates whether the customer is a New or Returning customer.\n",
    "- Discount: The discount applied to the sale, randomly chosen between 0% and 30%.\n",
    "- Payment_Method: The method of payment used by the customer (e.g., Credit Card, Cash, Bank Transfer).\n",
    "- Sales_Channel: The channel through which the sale occurred. Either Online or Retail.\n",
    "- Region_and_Sales_Rep: A combined column that pairs the region and sales representative for easier tracking."
   ]
  },
  {
   "cell_type": "code",
   "execution_count": 2,
   "id": "a081377e",
   "metadata": {},
   "outputs": [
    {
     "ename": "FileNotFoundError",
     "evalue": "[Errno 2] No such file or directory: 'Data/Sales_Data_Data_Vis_Project.csv'",
     "output_type": "error",
     "traceback": [
      "\u001b[1;31m---------------------------------------------------------------------------\u001b[0m",
      "\u001b[1;31mFileNotFoundError\u001b[0m                         Traceback (most recent call last)",
      "Cell \u001b[1;32mIn[2], line 1\u001b[0m\n\u001b[1;32m----> 1\u001b[0m sales_data \u001b[38;5;241m=\u001b[39m \u001b[43mpd\u001b[49m\u001b[38;5;241;43m.\u001b[39;49m\u001b[43mread_csv\u001b[49m\u001b[43m(\u001b[49m\u001b[38;5;124;43m\"\u001b[39;49m\u001b[38;5;124;43mData/Sales_Data_Data_Vis_Project.csv\u001b[39;49m\u001b[38;5;124;43m\"\u001b[39;49m\u001b[43m)\u001b[49m\n",
      "File \u001b[1;32m~\\AppData\\Local\\Packages\\PythonSoftwareFoundation.Python.3.11_qbz5n2kfra8p0\\LocalCache\\local-packages\\Python311\\site-packages\\pandas\\io\\parsers\\readers.py:1026\u001b[0m, in \u001b[0;36mread_csv\u001b[1;34m(filepath_or_buffer, sep, delimiter, header, names, index_col, usecols, dtype, engine, converters, true_values, false_values, skipinitialspace, skiprows, skipfooter, nrows, na_values, keep_default_na, na_filter, verbose, skip_blank_lines, parse_dates, infer_datetime_format, keep_date_col, date_parser, date_format, dayfirst, cache_dates, iterator, chunksize, compression, thousands, decimal, lineterminator, quotechar, quoting, doublequote, escapechar, comment, encoding, encoding_errors, dialect, on_bad_lines, delim_whitespace, low_memory, memory_map, float_precision, storage_options, dtype_backend)\u001b[0m\n\u001b[0;32m   1013\u001b[0m kwds_defaults \u001b[38;5;241m=\u001b[39m _refine_defaults_read(\n\u001b[0;32m   1014\u001b[0m     dialect,\n\u001b[0;32m   1015\u001b[0m     delimiter,\n\u001b[1;32m   (...)\u001b[0m\n\u001b[0;32m   1022\u001b[0m     dtype_backend\u001b[38;5;241m=\u001b[39mdtype_backend,\n\u001b[0;32m   1023\u001b[0m )\n\u001b[0;32m   1024\u001b[0m kwds\u001b[38;5;241m.\u001b[39mupdate(kwds_defaults)\n\u001b[1;32m-> 1026\u001b[0m \u001b[38;5;28;01mreturn\u001b[39;00m \u001b[43m_read\u001b[49m\u001b[43m(\u001b[49m\u001b[43mfilepath_or_buffer\u001b[49m\u001b[43m,\u001b[49m\u001b[43m \u001b[49m\u001b[43mkwds\u001b[49m\u001b[43m)\u001b[49m\n",
      "File \u001b[1;32m~\\AppData\\Local\\Packages\\PythonSoftwareFoundation.Python.3.11_qbz5n2kfra8p0\\LocalCache\\local-packages\\Python311\\site-packages\\pandas\\io\\parsers\\readers.py:620\u001b[0m, in \u001b[0;36m_read\u001b[1;34m(filepath_or_buffer, kwds)\u001b[0m\n\u001b[0;32m    617\u001b[0m _validate_names(kwds\u001b[38;5;241m.\u001b[39mget(\u001b[38;5;124m\"\u001b[39m\u001b[38;5;124mnames\u001b[39m\u001b[38;5;124m\"\u001b[39m, \u001b[38;5;28;01mNone\u001b[39;00m))\n\u001b[0;32m    619\u001b[0m \u001b[38;5;66;03m# Create the parser.\u001b[39;00m\n\u001b[1;32m--> 620\u001b[0m parser \u001b[38;5;241m=\u001b[39m \u001b[43mTextFileReader\u001b[49m\u001b[43m(\u001b[49m\u001b[43mfilepath_or_buffer\u001b[49m\u001b[43m,\u001b[49m\u001b[43m \u001b[49m\u001b[38;5;241;43m*\u001b[39;49m\u001b[38;5;241;43m*\u001b[39;49m\u001b[43mkwds\u001b[49m\u001b[43m)\u001b[49m\n\u001b[0;32m    622\u001b[0m \u001b[38;5;28;01mif\u001b[39;00m chunksize \u001b[38;5;129;01mor\u001b[39;00m iterator:\n\u001b[0;32m    623\u001b[0m     \u001b[38;5;28;01mreturn\u001b[39;00m parser\n",
      "File \u001b[1;32m~\\AppData\\Local\\Packages\\PythonSoftwareFoundation.Python.3.11_qbz5n2kfra8p0\\LocalCache\\local-packages\\Python311\\site-packages\\pandas\\io\\parsers\\readers.py:1620\u001b[0m, in \u001b[0;36mTextFileReader.__init__\u001b[1;34m(self, f, engine, **kwds)\u001b[0m\n\u001b[0;32m   1617\u001b[0m     \u001b[38;5;28mself\u001b[39m\u001b[38;5;241m.\u001b[39moptions[\u001b[38;5;124m\"\u001b[39m\u001b[38;5;124mhas_index_names\u001b[39m\u001b[38;5;124m\"\u001b[39m] \u001b[38;5;241m=\u001b[39m kwds[\u001b[38;5;124m\"\u001b[39m\u001b[38;5;124mhas_index_names\u001b[39m\u001b[38;5;124m\"\u001b[39m]\n\u001b[0;32m   1619\u001b[0m \u001b[38;5;28mself\u001b[39m\u001b[38;5;241m.\u001b[39mhandles: IOHandles \u001b[38;5;241m|\u001b[39m \u001b[38;5;28;01mNone\u001b[39;00m \u001b[38;5;241m=\u001b[39m \u001b[38;5;28;01mNone\u001b[39;00m\n\u001b[1;32m-> 1620\u001b[0m \u001b[38;5;28mself\u001b[39m\u001b[38;5;241m.\u001b[39m_engine \u001b[38;5;241m=\u001b[39m \u001b[38;5;28;43mself\u001b[39;49m\u001b[38;5;241;43m.\u001b[39;49m\u001b[43m_make_engine\u001b[49m\u001b[43m(\u001b[49m\u001b[43mf\u001b[49m\u001b[43m,\u001b[49m\u001b[43m \u001b[49m\u001b[38;5;28;43mself\u001b[39;49m\u001b[38;5;241;43m.\u001b[39;49m\u001b[43mengine\u001b[49m\u001b[43m)\u001b[49m\n",
      "File \u001b[1;32m~\\AppData\\Local\\Packages\\PythonSoftwareFoundation.Python.3.11_qbz5n2kfra8p0\\LocalCache\\local-packages\\Python311\\site-packages\\pandas\\io\\parsers\\readers.py:1880\u001b[0m, in \u001b[0;36mTextFileReader._make_engine\u001b[1;34m(self, f, engine)\u001b[0m\n\u001b[0;32m   1878\u001b[0m     \u001b[38;5;28;01mif\u001b[39;00m \u001b[38;5;124m\"\u001b[39m\u001b[38;5;124mb\u001b[39m\u001b[38;5;124m\"\u001b[39m \u001b[38;5;129;01mnot\u001b[39;00m \u001b[38;5;129;01min\u001b[39;00m mode:\n\u001b[0;32m   1879\u001b[0m         mode \u001b[38;5;241m+\u001b[39m\u001b[38;5;241m=\u001b[39m \u001b[38;5;124m\"\u001b[39m\u001b[38;5;124mb\u001b[39m\u001b[38;5;124m\"\u001b[39m\n\u001b[1;32m-> 1880\u001b[0m \u001b[38;5;28mself\u001b[39m\u001b[38;5;241m.\u001b[39mhandles \u001b[38;5;241m=\u001b[39m \u001b[43mget_handle\u001b[49m\u001b[43m(\u001b[49m\n\u001b[0;32m   1881\u001b[0m \u001b[43m    \u001b[49m\u001b[43mf\u001b[49m\u001b[43m,\u001b[49m\n\u001b[0;32m   1882\u001b[0m \u001b[43m    \u001b[49m\u001b[43mmode\u001b[49m\u001b[43m,\u001b[49m\n\u001b[0;32m   1883\u001b[0m \u001b[43m    \u001b[49m\u001b[43mencoding\u001b[49m\u001b[38;5;241;43m=\u001b[39;49m\u001b[38;5;28;43mself\u001b[39;49m\u001b[38;5;241;43m.\u001b[39;49m\u001b[43moptions\u001b[49m\u001b[38;5;241;43m.\u001b[39;49m\u001b[43mget\u001b[49m\u001b[43m(\u001b[49m\u001b[38;5;124;43m\"\u001b[39;49m\u001b[38;5;124;43mencoding\u001b[39;49m\u001b[38;5;124;43m\"\u001b[39;49m\u001b[43m,\u001b[49m\u001b[43m \u001b[49m\u001b[38;5;28;43;01mNone\u001b[39;49;00m\u001b[43m)\u001b[49m\u001b[43m,\u001b[49m\n\u001b[0;32m   1884\u001b[0m \u001b[43m    \u001b[49m\u001b[43mcompression\u001b[49m\u001b[38;5;241;43m=\u001b[39;49m\u001b[38;5;28;43mself\u001b[39;49m\u001b[38;5;241;43m.\u001b[39;49m\u001b[43moptions\u001b[49m\u001b[38;5;241;43m.\u001b[39;49m\u001b[43mget\u001b[49m\u001b[43m(\u001b[49m\u001b[38;5;124;43m\"\u001b[39;49m\u001b[38;5;124;43mcompression\u001b[39;49m\u001b[38;5;124;43m\"\u001b[39;49m\u001b[43m,\u001b[49m\u001b[43m \u001b[49m\u001b[38;5;28;43;01mNone\u001b[39;49;00m\u001b[43m)\u001b[49m\u001b[43m,\u001b[49m\n\u001b[0;32m   1885\u001b[0m \u001b[43m    \u001b[49m\u001b[43mmemory_map\u001b[49m\u001b[38;5;241;43m=\u001b[39;49m\u001b[38;5;28;43mself\u001b[39;49m\u001b[38;5;241;43m.\u001b[39;49m\u001b[43moptions\u001b[49m\u001b[38;5;241;43m.\u001b[39;49m\u001b[43mget\u001b[49m\u001b[43m(\u001b[49m\u001b[38;5;124;43m\"\u001b[39;49m\u001b[38;5;124;43mmemory_map\u001b[39;49m\u001b[38;5;124;43m\"\u001b[39;49m\u001b[43m,\u001b[49m\u001b[43m \u001b[49m\u001b[38;5;28;43;01mFalse\u001b[39;49;00m\u001b[43m)\u001b[49m\u001b[43m,\u001b[49m\n\u001b[0;32m   1886\u001b[0m \u001b[43m    \u001b[49m\u001b[43mis_text\u001b[49m\u001b[38;5;241;43m=\u001b[39;49m\u001b[43mis_text\u001b[49m\u001b[43m,\u001b[49m\n\u001b[0;32m   1887\u001b[0m \u001b[43m    \u001b[49m\u001b[43merrors\u001b[49m\u001b[38;5;241;43m=\u001b[39;49m\u001b[38;5;28;43mself\u001b[39;49m\u001b[38;5;241;43m.\u001b[39;49m\u001b[43moptions\u001b[49m\u001b[38;5;241;43m.\u001b[39;49m\u001b[43mget\u001b[49m\u001b[43m(\u001b[49m\u001b[38;5;124;43m\"\u001b[39;49m\u001b[38;5;124;43mencoding_errors\u001b[39;49m\u001b[38;5;124;43m\"\u001b[39;49m\u001b[43m,\u001b[49m\u001b[43m \u001b[49m\u001b[38;5;124;43m\"\u001b[39;49m\u001b[38;5;124;43mstrict\u001b[39;49m\u001b[38;5;124;43m\"\u001b[39;49m\u001b[43m)\u001b[49m\u001b[43m,\u001b[49m\n\u001b[0;32m   1888\u001b[0m \u001b[43m    \u001b[49m\u001b[43mstorage_options\u001b[49m\u001b[38;5;241;43m=\u001b[39;49m\u001b[38;5;28;43mself\u001b[39;49m\u001b[38;5;241;43m.\u001b[39;49m\u001b[43moptions\u001b[49m\u001b[38;5;241;43m.\u001b[39;49m\u001b[43mget\u001b[49m\u001b[43m(\u001b[49m\u001b[38;5;124;43m\"\u001b[39;49m\u001b[38;5;124;43mstorage_options\u001b[39;49m\u001b[38;5;124;43m\"\u001b[39;49m\u001b[43m,\u001b[49m\u001b[43m \u001b[49m\u001b[38;5;28;43;01mNone\u001b[39;49;00m\u001b[43m)\u001b[49m\u001b[43m,\u001b[49m\n\u001b[0;32m   1889\u001b[0m \u001b[43m\u001b[49m\u001b[43m)\u001b[49m\n\u001b[0;32m   1890\u001b[0m \u001b[38;5;28;01massert\u001b[39;00m \u001b[38;5;28mself\u001b[39m\u001b[38;5;241m.\u001b[39mhandles \u001b[38;5;129;01mis\u001b[39;00m \u001b[38;5;129;01mnot\u001b[39;00m \u001b[38;5;28;01mNone\u001b[39;00m\n\u001b[0;32m   1891\u001b[0m f \u001b[38;5;241m=\u001b[39m \u001b[38;5;28mself\u001b[39m\u001b[38;5;241m.\u001b[39mhandles\u001b[38;5;241m.\u001b[39mhandle\n",
      "File \u001b[1;32m~\\AppData\\Local\\Packages\\PythonSoftwareFoundation.Python.3.11_qbz5n2kfra8p0\\LocalCache\\local-packages\\Python311\\site-packages\\pandas\\io\\common.py:873\u001b[0m, in \u001b[0;36mget_handle\u001b[1;34m(path_or_buf, mode, encoding, compression, memory_map, is_text, errors, storage_options)\u001b[0m\n\u001b[0;32m    868\u001b[0m \u001b[38;5;28;01melif\u001b[39;00m \u001b[38;5;28misinstance\u001b[39m(handle, \u001b[38;5;28mstr\u001b[39m):\n\u001b[0;32m    869\u001b[0m     \u001b[38;5;66;03m# Check whether the filename is to be opened in binary mode.\u001b[39;00m\n\u001b[0;32m    870\u001b[0m     \u001b[38;5;66;03m# Binary mode does not support 'encoding' and 'newline'.\u001b[39;00m\n\u001b[0;32m    871\u001b[0m     \u001b[38;5;28;01mif\u001b[39;00m ioargs\u001b[38;5;241m.\u001b[39mencoding \u001b[38;5;129;01mand\u001b[39;00m \u001b[38;5;124m\"\u001b[39m\u001b[38;5;124mb\u001b[39m\u001b[38;5;124m\"\u001b[39m \u001b[38;5;129;01mnot\u001b[39;00m \u001b[38;5;129;01min\u001b[39;00m ioargs\u001b[38;5;241m.\u001b[39mmode:\n\u001b[0;32m    872\u001b[0m         \u001b[38;5;66;03m# Encoding\u001b[39;00m\n\u001b[1;32m--> 873\u001b[0m         handle \u001b[38;5;241m=\u001b[39m \u001b[38;5;28;43mopen\u001b[39;49m\u001b[43m(\u001b[49m\n\u001b[0;32m    874\u001b[0m \u001b[43m            \u001b[49m\u001b[43mhandle\u001b[49m\u001b[43m,\u001b[49m\n\u001b[0;32m    875\u001b[0m \u001b[43m            \u001b[49m\u001b[43mioargs\u001b[49m\u001b[38;5;241;43m.\u001b[39;49m\u001b[43mmode\u001b[49m\u001b[43m,\u001b[49m\n\u001b[0;32m    876\u001b[0m \u001b[43m            \u001b[49m\u001b[43mencoding\u001b[49m\u001b[38;5;241;43m=\u001b[39;49m\u001b[43mioargs\u001b[49m\u001b[38;5;241;43m.\u001b[39;49m\u001b[43mencoding\u001b[49m\u001b[43m,\u001b[49m\n\u001b[0;32m    877\u001b[0m \u001b[43m            \u001b[49m\u001b[43merrors\u001b[49m\u001b[38;5;241;43m=\u001b[39;49m\u001b[43merrors\u001b[49m\u001b[43m,\u001b[49m\n\u001b[0;32m    878\u001b[0m \u001b[43m            \u001b[49m\u001b[43mnewline\u001b[49m\u001b[38;5;241;43m=\u001b[39;49m\u001b[38;5;124;43m\"\u001b[39;49m\u001b[38;5;124;43m\"\u001b[39;49m\u001b[43m,\u001b[49m\n\u001b[0;32m    879\u001b[0m \u001b[43m        \u001b[49m\u001b[43m)\u001b[49m\n\u001b[0;32m    880\u001b[0m     \u001b[38;5;28;01melse\u001b[39;00m:\n\u001b[0;32m    881\u001b[0m         \u001b[38;5;66;03m# Binary mode\u001b[39;00m\n\u001b[0;32m    882\u001b[0m         handle \u001b[38;5;241m=\u001b[39m \u001b[38;5;28mopen\u001b[39m(handle, ioargs\u001b[38;5;241m.\u001b[39mmode)\n",
      "\u001b[1;31mFileNotFoundError\u001b[0m: [Errno 2] No such file or directory: 'Data/Sales_Data_Data_Vis_Project.csv'"
     ]
    }
   ],
   "source": [
    "sales_data = pd.read_csv(\"Data/Sales_Data_Data_Vis_Project.csv\")"
   ]
  },
  {
   "cell_type": "markdown",
   "id": "9d107689",
   "metadata": {},
   "source": [
    "## Data Inspection"
   ]
  },
  {
   "cell_type": "code",
   "execution_count": null,
   "id": "720fd276",
   "metadata": {},
   "outputs": [
    {
     "data": {
      "text/html": [
       "<div>\n",
       "<style scoped>\n",
       "    .dataframe tbody tr th:only-of-type {\n",
       "        vertical-align: middle;\n",
       "    }\n",
       "\n",
       "    .dataframe tbody tr th {\n",
       "        vertical-align: top;\n",
       "    }\n",
       "\n",
       "    .dataframe thead th {\n",
       "        text-align: right;\n",
       "    }\n",
       "</style>\n",
       "<table border=\"1\" class=\"dataframe\">\n",
       "  <thead>\n",
       "    <tr style=\"text-align: right;\">\n",
       "      <th></th>\n",
       "      <th>Product_ID</th>\n",
       "      <th>Sale_Date</th>\n",
       "      <th>Sales_Rep</th>\n",
       "      <th>Region</th>\n",
       "      <th>Sales_Amount</th>\n",
       "      <th>Quantity_Sold</th>\n",
       "      <th>Product_Category</th>\n",
       "      <th>Unit_Cost</th>\n",
       "      <th>Unit_Price</th>\n",
       "      <th>Customer_Type</th>\n",
       "      <th>Discount</th>\n",
       "      <th>Payment_Method</th>\n",
       "      <th>Sales_Channel</th>\n",
       "      <th>Region_and_Sales_Rep</th>\n",
       "    </tr>\n",
       "  </thead>\n",
       "  <tbody>\n",
       "    <tr>\n",
       "      <th>0</th>\n",
       "      <td>1052</td>\n",
       "      <td>03/02/2023</td>\n",
       "      <td>Bob</td>\n",
       "      <td>North</td>\n",
       "      <td>5053.97</td>\n",
       "      <td>18</td>\n",
       "      <td>Furniture</td>\n",
       "      <td>152.75</td>\n",
       "      <td>267.22</td>\n",
       "      <td>Returning</td>\n",
       "      <td>0.09</td>\n",
       "      <td>Cash</td>\n",
       "      <td>Online</td>\n",
       "      <td>North-Bob</td>\n",
       "    </tr>\n",
       "    <tr>\n",
       "      <th>1</th>\n",
       "      <td>1093</td>\n",
       "      <td>21/04/2023</td>\n",
       "      <td>Bob</td>\n",
       "      <td>West</td>\n",
       "      <td>4384.02</td>\n",
       "      <td>17</td>\n",
       "      <td>Furniture</td>\n",
       "      <td>3816.39</td>\n",
       "      <td>4209.44</td>\n",
       "      <td>Returning</td>\n",
       "      <td>0.11</td>\n",
       "      <td>Cash</td>\n",
       "      <td>Retail</td>\n",
       "      <td>West-Bob</td>\n",
       "    </tr>\n",
       "    <tr>\n",
       "      <th>2</th>\n",
       "      <td>1015</td>\n",
       "      <td>21/09/2023</td>\n",
       "      <td>David</td>\n",
       "      <td>South</td>\n",
       "      <td>4631.23</td>\n",
       "      <td>30</td>\n",
       "      <td>Food</td>\n",
       "      <td>261.56</td>\n",
       "      <td>371.40</td>\n",
       "      <td>Returning</td>\n",
       "      <td>0.20</td>\n",
       "      <td>Bank Transfer</td>\n",
       "      <td>Retail</td>\n",
       "      <td>South-David</td>\n",
       "    </tr>\n",
       "    <tr>\n",
       "      <th>3</th>\n",
       "      <td>1072</td>\n",
       "      <td>24/08/2023</td>\n",
       "      <td>Bob</td>\n",
       "      <td>South</td>\n",
       "      <td>2167.94</td>\n",
       "      <td>39</td>\n",
       "      <td>Clothing</td>\n",
       "      <td>4330.03</td>\n",
       "      <td>4467.75</td>\n",
       "      <td>New</td>\n",
       "      <td>0.02</td>\n",
       "      <td>Credit Card</td>\n",
       "      <td>Retail</td>\n",
       "      <td>South-Bob</td>\n",
       "    </tr>\n",
       "    <tr>\n",
       "      <th>4</th>\n",
       "      <td>1061</td>\n",
       "      <td>24/03/2023</td>\n",
       "      <td>Charlie</td>\n",
       "      <td>East</td>\n",
       "      <td>3750.20</td>\n",
       "      <td>13</td>\n",
       "      <td>Electronics</td>\n",
       "      <td>637.37</td>\n",
       "      <td>692.71</td>\n",
       "      <td>New</td>\n",
       "      <td>0.08</td>\n",
       "      <td>Credit Card</td>\n",
       "      <td>Online</td>\n",
       "      <td>East-Charlie</td>\n",
       "    </tr>\n",
       "  </tbody>\n",
       "</table>\n",
       "</div>"
      ],
      "text/plain": [
       "   Product_ID   Sale_Date Sales_Rep Region  Sales_Amount  Quantity_Sold  \\\n",
       "0        1052  03/02/2023       Bob  North       5053.97             18   \n",
       "1        1093  21/04/2023       Bob   West       4384.02             17   \n",
       "2        1015  21/09/2023     David  South       4631.23             30   \n",
       "3        1072  24/08/2023       Bob  South       2167.94             39   \n",
       "4        1061  24/03/2023   Charlie   East       3750.20             13   \n",
       "\n",
       "  Product_Category  Unit_Cost  Unit_Price Customer_Type  Discount  \\\n",
       "0        Furniture     152.75      267.22     Returning      0.09   \n",
       "1        Furniture    3816.39     4209.44     Returning      0.11   \n",
       "2             Food     261.56      371.40     Returning      0.20   \n",
       "3         Clothing    4330.03     4467.75           New      0.02   \n",
       "4      Electronics     637.37      692.71           New      0.08   \n",
       "\n",
       "  Payment_Method Sales_Channel Region_and_Sales_Rep  \n",
       "0           Cash        Online            North-Bob  \n",
       "1           Cash        Retail             West-Bob  \n",
       "2  Bank Transfer        Retail          South-David  \n",
       "3    Credit Card        Retail            South-Bob  \n",
       "4    Credit Card        Online         East-Charlie  "
      ]
     },
     "execution_count": 258,
     "metadata": {},
     "output_type": "execute_result"
    }
   ],
   "source": [
    "sales_data.head()"
   ]
  },
  {
   "cell_type": "code",
   "execution_count": null,
   "id": "ae898c8e",
   "metadata": {},
   "outputs": [
    {
     "name": "stdout",
     "output_type": "stream",
     "text": [
      "<class 'pandas.core.frame.DataFrame'>\n",
      "RangeIndex: 1000 entries, 0 to 999\n",
      "Data columns (total 14 columns):\n",
      " #   Column                Non-Null Count  Dtype  \n",
      "---  ------                --------------  -----  \n",
      " 0   Product_ID            1000 non-null   int64  \n",
      " 1   Sale_Date             1000 non-null   object \n",
      " 2   Sales_Rep             1000 non-null   object \n",
      " 3   Region                1000 non-null   object \n",
      " 4   Sales_Amount          1000 non-null   float64\n",
      " 5   Quantity_Sold         1000 non-null   int64  \n",
      " 6   Product_Category      1000 non-null   object \n",
      " 7   Unit_Cost             1000 non-null   float64\n",
      " 8   Unit_Price            1000 non-null   float64\n",
      " 9   Customer_Type         1000 non-null   object \n",
      " 10  Discount              1000 non-null   float64\n",
      " 11  Payment_Method        1000 non-null   object \n",
      " 12  Sales_Channel         1000 non-null   object \n",
      " 13  Region_and_Sales_Rep  1000 non-null   object \n",
      "dtypes: float64(4), int64(2), object(8)\n",
      "memory usage: 109.5+ KB\n"
     ]
    }
   ],
   "source": [
    "sales_data.info()\n",
    "# Data contains 13 columns and 1000 rows with no null values"
   ]
  },
  {
   "cell_type": "markdown",
   "id": "4b129e46",
   "metadata": {},
   "source": [
    "## Data Inspection and Cleaning"
   ]
  },
  {
   "cell_type": "markdown",
   "id": "631fca05",
   "metadata": {},
   "source": [
    "### Product_ID Column\n",
    "Contains Unique Identifier for each product "
   ]
  },
  {
   "cell_type": "code",
   "execution_count": null,
   "id": "ef976ed9",
   "metadata": {},
   "outputs": [
    {
     "data": {
      "text/plain": [
       "Product_ID\n",
       "1090    20\n",
       "1062    19\n",
       "1092    19\n",
       "1033    18\n",
       "1099    18\n",
       "        ..\n",
       "1043     5\n",
       "1083     4\n",
       "1041     4\n",
       "1011     4\n",
       "1031     3\n",
       "Name: count, Length: 100, dtype: int64"
      ]
     },
     "execution_count": 260,
     "metadata": {},
     "output_type": "execute_result"
    }
   ],
   "source": [
    "sales_data[\"Product_ID\"].value_counts()\n",
    "\n",
    "# Looks good is correct dtype and no null values contains 100 types of products"
   ]
  },
  {
   "cell_type": "markdown",
   "id": "6ef1b8b7",
   "metadata": {},
   "source": [
    "### Sale_Date Column\n",
    "Contains date of sale             "
   ]
  },
  {
   "cell_type": "code",
   "execution_count": null,
   "id": "1d52477d",
   "metadata": {},
   "outputs": [],
   "source": [
    "sales_data[\"Sale_Date\"].value_counts()\n",
    "\n",
    "# Just converted to datetime format\n",
    "\n",
    "sales_data[\"Sale_Date\"] = pd.to_datetime(sales_data[\"Sale_Date\"], format=\"%d/%m/%Y\")"
   ]
  },
  {
   "cell_type": "markdown",
   "id": "2c3e5d42",
   "metadata": {},
   "source": [
    "### Sales_Rep Column\n",
    "Contains Name of Sales Rep"
   ]
  },
  {
   "cell_type": "code",
   "execution_count": null,
   "id": "e948c079",
   "metadata": {},
   "outputs": [],
   "source": [
    "sales_data[\"Sales_Rep\"].value_counts()\n",
    "\n",
    "# Data looks good just converted to string type\n",
    "\n",
    "sales_data[\"Sales_Rep\"] = sales_data[\"Sales_Rep\"].astype(\"string\")"
   ]
  },
  {
   "cell_type": "markdown",
   "id": "26320d5d",
   "metadata": {},
   "source": [
    "### Region Column\n",
    "Contains the region in which the product was sold"
   ]
  },
  {
   "cell_type": "code",
   "execution_count": null,
   "id": "2e9fd209",
   "metadata": {},
   "outputs": [],
   "source": [
    "sales_data[\"Region\"].value_counts()\n",
    "\n",
    "# Data looks good just converted to string type and chaning to irish provences\n",
    "\n",
    "sales_data[\"Region\"] = sales_data[\"Region\"].astype(\"string\")"
   ]
  },
  {
   "cell_type": "markdown",
   "id": "b2801e7a",
   "metadata": {},
   "source": [
    "### Sales_Amount Column\n",
    "Total Amount of the sale including discounts "
   ]
  },
  {
   "cell_type": "code",
   "execution_count": null,
   "id": "c0dc424f",
   "metadata": {},
   "outputs": [],
   "source": [
    "sales_data[\"Sales_Amount\"].value_counts()\n",
    "\n",
    "# Data has incorrect calculations need to redo by multiplying quantity sold by unit price minus the discount\n",
    "\n",
    "sales_data[\"Sales_Amount\"] = sales_data[\"Sales_Amount\"].astype(\"float\")"
   ]
  },
  {
   "cell_type": "markdown",
   "id": "a45bea76",
   "metadata": {},
   "source": [
    "### Quantity_Sold Column\n",
    "Conatins the total quantity sold within the sale"
   ]
  },
  {
   "cell_type": "code",
   "execution_count": null,
   "id": "56c96cc1",
   "metadata": {},
   "outputs": [
    {
     "data": {
      "text/plain": [
       "Quantity_Sold\n",
       "47    32\n",
       "45    28\n",
       "17    28\n",
       "32    26\n",
       "42    26\n",
       "35    26\n",
       "43    25\n",
       "16    25\n",
       "23    25\n",
       "4     24\n",
       "12    24\n",
       "14    23\n",
       "40    22\n",
       "26    22\n",
       "28    22\n",
       "11    22\n",
       "19    22\n",
       "20    22\n",
       "31    21\n",
       "22    21\n",
       "46    21\n",
       "2     21\n",
       "25    21\n",
       "9     20\n",
       "6     20\n",
       "48    20\n",
       "13    20\n",
       "1     19\n",
       "38    19\n",
       "15    19\n",
       "39    19\n",
       "21    19\n",
       "44    19\n",
       "36    18\n",
       "5     18\n",
       "30    18\n",
       "29    18\n",
       "8     18\n",
       "27    18\n",
       "24    17\n",
       "18    16\n",
       "49    16\n",
       "34    16\n",
       "10    15\n",
       "3     15\n",
       "7     15\n",
       "37    15\n",
       "33    13\n",
       "41    11\n",
       "Name: count, dtype: int64"
      ]
     },
     "execution_count": 265,
     "metadata": {},
     "output_type": "execute_result"
    }
   ],
   "source": [
    "sales_data[\"Quantity_Sold\"].value_counts()\n",
    "\n",
    "# Data looks fine"
   ]
  },
  {
   "cell_type": "markdown",
   "id": "ffda756f",
   "metadata": {},
   "source": [
    "### Product_Category Column\n",
    "Contains the Category of the product that was sold"
   ]
  },
  {
   "cell_type": "code",
   "execution_count": null,
   "id": "374ff3ab",
   "metadata": {},
   "outputs": [],
   "source": [
    "sales_data[\"Product_Category\"].value_counts()\n",
    "\n",
    "# Data is ok just converted to string\n",
    "sales_data[\"Product_Category\"] = sales_data[\"Product_Category\"].astype(\"string\")"
   ]
  },
  {
   "cell_type": "markdown",
   "id": "40cabbdc",
   "metadata": {},
   "source": [
    "### Unit_Cost Column\n",
    "Contains the original cost of the product"
   ]
  },
  {
   "cell_type": "code",
   "execution_count": null,
   "id": "4a989597",
   "metadata": {},
   "outputs": [],
   "source": [
    "sales_data[\"Unit_Cost\"].value_counts()\n",
    "\n",
    "# Data is fine just converted to float\n",
    "\n",
    "sales_data[\"Unit_Cost\"] = sales_data[\"Unit_Cost\"].astype(\"float\")"
   ]
  },
  {
   "cell_type": "markdown",
   "id": "289258a4",
   "metadata": {},
   "source": [
    "### Unit_Price Column\n",
    "Contains the Sale price of the product"
   ]
  },
  {
   "cell_type": "code",
   "execution_count": null,
   "id": "6d6310b0",
   "metadata": {},
   "outputs": [],
   "source": [
    "sales_data[\"Unit_Price\"].value_counts()\n",
    "\n",
    "# Data is Fine just converted to float and changed name of column for better readability\n",
    "\n",
    "sales_data[\"Unit_Price\"] = sales_data[\"Unit_Price\"].astype(\"float\")\n",
    "\n",
    "sales_data.rename(columns={\"Unit_Price\": \"Unit_Sale_Price\"},inplace=True)"
   ]
  },
  {
   "cell_type": "markdown",
   "id": "3ecc8c9d",
   "metadata": {},
   "source": [
    "### Customer_Type Column\n",
    "Contains whether the customer was a new or returning customer"
   ]
  },
  {
   "cell_type": "code",
   "execution_count": null,
   "id": "6ac9ef8c",
   "metadata": {},
   "outputs": [],
   "source": [
    "sales_data[\"Customer_Type\"].value_counts()\n",
    "\n",
    "# Data is ok just converted to string\n",
    "\n",
    "sales_data[\"Customer_Type\"] = sales_data[\"Customer_Type\"].astype(\"string\")"
   ]
  },
  {
   "cell_type": "markdown",
   "id": "366d5754",
   "metadata": {},
   "source": [
    "### Discount Column\n",
    "Contains the total discount applied to the sale"
   ]
  },
  {
   "cell_type": "code",
   "execution_count": null,
   "id": "1f9e8f99",
   "metadata": {},
   "outputs": [],
   "source": [
    "sales_data[\"Discount\"].value_counts()\n",
    "\n",
    "# Data is fine just converted to float\n",
    "\n",
    "sales_data[\"Discount\"] = sales_data[\"Discount\"].astype(\"float\")"
   ]
  },
  {
   "cell_type": "markdown",
   "id": "1b2b69bb",
   "metadata": {},
   "source": [
    "### Payment_Method Column\n",
    "Contains the Method of Payment made for the sale by the customer"
   ]
  },
  {
   "cell_type": "code",
   "execution_count": null,
   "id": "143f0aee",
   "metadata": {},
   "outputs": [],
   "source": [
    "sales_data[\"Payment_Method\"].value_counts() \n",
    "\n",
    "# Data is ok just converted to string\n",
    "\n",
    "sales_data[\"Payment_Method\"] = sales_data[\"Payment_Method\"].astype(\"string\")"
   ]
  },
  {
   "cell_type": "markdown",
   "id": "521435e3",
   "metadata": {},
   "source": [
    "### Sales_Channel Column\n",
    "Contains how the sale was made either in Retail or Online"
   ]
  },
  {
   "cell_type": "code",
   "execution_count": null,
   "id": "cda87c7e",
   "metadata": {},
   "outputs": [],
   "source": [
    "sales_data[\"Sales_Channel\"].value_counts()\n",
    "\n",
    "# Data is ok just converted to string\n",
    "\n",
    "sales_data[\"Sales_Channel\"] = sales_data[\"Sales_Channel\"].astype(\"string\")"
   ]
  },
  {
   "cell_type": "markdown",
   "id": "81ff8672",
   "metadata": {},
   "source": [
    "### Region_and_Sales_Rep Column\n",
    "Contains what region the sales rep made the sale in"
   ]
  },
  {
   "cell_type": "code",
   "execution_count": null,
   "id": "5a9e9799",
   "metadata": {},
   "outputs": [],
   "source": [
    "sales_data[\"Region_and_Sales_Rep\"].value_counts()\n",
    "\n",
    "# Data is fine just converted to string and changing Regions from north, south, east and west to Ireland Provences\n",
    "\n",
    "sales_data[\"Region_and_Sales_Rep\"] = sales_data[\"Region_and_Sales_Rep\"].astype(\"string\")"
   ]
  },
  {
   "cell_type": "markdown",
   "id": "c71c4ca0",
   "metadata": {},
   "source": [
    "## Data Transformation"
   ]
  },
  {
   "cell_type": "markdown",
   "id": "7e5d2670",
   "metadata": {},
   "source": [
    "### Creating new Total Sales Amount Column with and without discount applied"
   ]
  },
  {
   "cell_type": "code",
   "execution_count": null,
   "id": "d6c7771f",
   "metadata": {},
   "outputs": [
    {
     "data": {
      "text/plain": [
       "0        4809.96\n",
       "1       71560.48\n",
       "2       11142.00\n",
       "3      174242.25\n",
       "4        9005.23\n",
       "         ...    \n",
       "995     21768.60\n",
       "996     68686.80\n",
       "997      7450.59\n",
       "998    145992.21\n",
       "999    140480.64\n",
       "Name: Total_Sale_Amount_No_Discount, Length: 1000, dtype: float64"
      ]
     },
     "execution_count": 274,
     "metadata": {},
     "output_type": "execute_result"
    }
   ],
   "source": [
    "# Multiplying quantity sold by the Sale price of the unit sold to calculate total sales amount without discount\n",
    "sales_data[\"Total_Sale_Amount_No_Discount\"] = sales_data[\"Quantity_Sold\"] * sales_data[\"Unit_Sale_Price\"]\n",
    "\n",
    "# Rounding the column to two decimal places\n",
    "sales_data[\"Total_Sale_Amount_No_Discount\"].round(2)"
   ]
  },
  {
   "cell_type": "code",
   "execution_count": null,
   "id": "c41c3bd1",
   "metadata": {},
   "outputs": [],
   "source": [
    "# Taking the Total sales amount without discount and taking away the discounted value \n",
    "sales_data[\"Total_Sale_Amount_with_Discount\"] = sales_data[\"Total_Sale_Amount_No_Discount\"] - (sales_data[\"Total_Sale_Amount_No_Discount\"] * sales_data[\"Discount\"])\n",
    "\n",
    "# Rounding the new column to two decimal places\n",
    "sales_data[\"Total_Sale_Amount_with_Discount\"] = sales_data[\"Total_Sale_Amount_with_Discount\"].round(2)"
   ]
  },
  {
   "cell_type": "markdown",
   "id": "6f1f3de9",
   "metadata": {},
   "source": [
    "### Creating Total Unit cost of sale for profitability tracking"
   ]
  },
  {
   "cell_type": "code",
   "execution_count": null,
   "id": "d0e332aa",
   "metadata": {},
   "outputs": [
    {
     "data": {
      "text/plain": [
       "0        2749.50\n",
       "1       64878.63\n",
       "2        7846.80\n",
       "3      168871.17\n",
       "4        8285.81\n",
       "         ...    \n",
       "995     19772.12\n",
       "996     64909.84\n",
       "997      6047.24\n",
       "998    143716.17\n",
       "999    126363.84\n",
       "Name: Total_Unit_Cost_of_Sale, Length: 1000, dtype: float64"
      ]
     },
     "execution_count": 276,
     "metadata": {},
     "output_type": "execute_result"
    }
   ],
   "source": [
    "# Creating Total unit cost per sales by multiplying the quantity sold by the original cost of the unit\n",
    "sales_data[\"Total_Unit_Cost_of_Sale\"] = sales_data[\"Quantity_Sold\"] * sales_data[\"Unit_Cost\"]\n",
    "\n",
    "# Rounding the column to two decimal places\n",
    "sales_data[\"Total_Unit_Cost_of_Sale\"].round(2)"
   ]
  },
  {
   "cell_type": "markdown",
   "id": "cf3fb4a5",
   "metadata": {},
   "source": [
    "### Creating Total Profit made per sale"
   ]
  },
  {
   "cell_type": "code",
   "execution_count": null,
   "id": "1f5ee35c",
   "metadata": {},
   "outputs": [],
   "source": [
    "# Calculating the total profit per sale by Taking away the total unit cost of the sale from the total sale amount including the discount applied\n",
    "sales_data[\"Total_Profit_Per_Sale\"] = sales_data[\"Total_Sale_Amount_with_Discount\"] - sales_data[\"Total_Unit_Cost_of_Sale\"]\n",
    "\n",
    "# Rounding the column to two decimal places\n",
    "sales_data[\"Total_Profit_Per_Sale\"] = sales_data[\"Total_Profit_Per_Sale\"].round(2)"
   ]
  },
  {
   "cell_type": "markdown",
   "id": "a78a022d",
   "metadata": {},
   "source": [
    "### Changing Region types to Irish Provences"
   ]
  },
  {
   "cell_type": "code",
   "execution_count": null,
   "id": "497e64d6",
   "metadata": {},
   "outputs": [],
   "source": [
    "# Creating a provence lookup to assign each value in region to its respective provence in Ireland\n",
    "provence_lookup = {\n",
    "    \"North\":\"Ulster\",\n",
    "    \"West\":\"Connacht\",\n",
    "    \"East\":\"Leinster\",\n",
    "    \"South\":\"Munster\"\n",
    "}\n",
    "\n",
    "# Replacing the region values with its respective provence\n",
    "sales_data[\"Provence\"] = sales_data[\"Region\"].replace(provence_lookup)\n"
   ]
  },
  {
   "cell_type": "markdown",
   "id": "5b0819e3",
   "metadata": {},
   "source": [
    "### Changing Region and Sales rep columns to represent new region values"
   ]
  },
  {
   "cell_type": "code",
   "execution_count": null,
   "id": "abd311a5",
   "metadata": {},
   "outputs": [],
   "source": [
    "# Creating a new Region and sales Rep column that includes the new provence values\n",
    "sales_data[\"Provence_and_Sales_Rep\"] = (sales_data[\"Provence\"] + '-') + (sales_data[\"Sales_Rep\"])"
   ]
  },
  {
   "cell_type": "markdown",
   "id": "acf8d15b",
   "metadata": {},
   "source": [
    "### Dropping Sales Amount, Region, and Region and Sales Rep as no longer needed for analysis"
   ]
  },
  {
   "cell_type": "code",
   "execution_count": null,
   "id": "6a40c159",
   "metadata": {},
   "outputs": [],
   "source": [
    "sales_data.drop(columns={\"Sales_Amount\",\"Region\",\"Region_and_Sales_Rep\"},inplace=True)"
   ]
  },
  {
   "cell_type": "markdown",
   "id": "3b627909",
   "metadata": {},
   "source": [
    "### Final Inspection"
   ]
  },
  {
   "cell_type": "code",
   "execution_count": null,
   "id": "b7cd9294",
   "metadata": {},
   "outputs": [
    {
     "data": {
      "text/html": [
       "<div>\n",
       "<style scoped>\n",
       "    .dataframe tbody tr th:only-of-type {\n",
       "        vertical-align: middle;\n",
       "    }\n",
       "\n",
       "    .dataframe tbody tr th {\n",
       "        vertical-align: top;\n",
       "    }\n",
       "\n",
       "    .dataframe thead th {\n",
       "        text-align: right;\n",
       "    }\n",
       "</style>\n",
       "<table border=\"1\" class=\"dataframe\">\n",
       "  <thead>\n",
       "    <tr style=\"text-align: right;\">\n",
       "      <th></th>\n",
       "      <th>Product_ID</th>\n",
       "      <th>Sale_Date</th>\n",
       "      <th>Sales_Rep</th>\n",
       "      <th>Quantity_Sold</th>\n",
       "      <th>Product_Category</th>\n",
       "      <th>Unit_Cost</th>\n",
       "      <th>Unit_Sale_Price</th>\n",
       "      <th>Customer_Type</th>\n",
       "      <th>Discount</th>\n",
       "      <th>Payment_Method</th>\n",
       "      <th>Sales_Channel</th>\n",
       "      <th>Total_Sale_Amount_No_Discount</th>\n",
       "      <th>Total_Sale_Amount_with_Discount</th>\n",
       "      <th>Total_Unit_Cost_of_Sale</th>\n",
       "      <th>Total_Profit_Per_Sale</th>\n",
       "      <th>Provence</th>\n",
       "      <th>Provence_and_Sales_Rep</th>\n",
       "    </tr>\n",
       "  </thead>\n",
       "  <tbody>\n",
       "    <tr>\n",
       "      <th>0</th>\n",
       "      <td>1052</td>\n",
       "      <td>2023-02-03</td>\n",
       "      <td>Bob</td>\n",
       "      <td>18</td>\n",
       "      <td>Furniture</td>\n",
       "      <td>152.75</td>\n",
       "      <td>267.22</td>\n",
       "      <td>Returning</td>\n",
       "      <td>0.09</td>\n",
       "      <td>Cash</td>\n",
       "      <td>Online</td>\n",
       "      <td>4809.96</td>\n",
       "      <td>4377.06</td>\n",
       "      <td>2749.50</td>\n",
       "      <td>1627.56</td>\n",
       "      <td>Ulster</td>\n",
       "      <td>Ulster-Bob</td>\n",
       "    </tr>\n",
       "    <tr>\n",
       "      <th>1</th>\n",
       "      <td>1093</td>\n",
       "      <td>2023-04-21</td>\n",
       "      <td>Bob</td>\n",
       "      <td>17</td>\n",
       "      <td>Furniture</td>\n",
       "      <td>3816.39</td>\n",
       "      <td>4209.44</td>\n",
       "      <td>Returning</td>\n",
       "      <td>0.11</td>\n",
       "      <td>Cash</td>\n",
       "      <td>Retail</td>\n",
       "      <td>71560.48</td>\n",
       "      <td>63688.83</td>\n",
       "      <td>64878.63</td>\n",
       "      <td>-1189.80</td>\n",
       "      <td>Connacht</td>\n",
       "      <td>Connacht-Bob</td>\n",
       "    </tr>\n",
       "    <tr>\n",
       "      <th>2</th>\n",
       "      <td>1015</td>\n",
       "      <td>2023-09-21</td>\n",
       "      <td>David</td>\n",
       "      <td>30</td>\n",
       "      <td>Food</td>\n",
       "      <td>261.56</td>\n",
       "      <td>371.40</td>\n",
       "      <td>Returning</td>\n",
       "      <td>0.20</td>\n",
       "      <td>Bank Transfer</td>\n",
       "      <td>Retail</td>\n",
       "      <td>11142.00</td>\n",
       "      <td>8913.60</td>\n",
       "      <td>7846.80</td>\n",
       "      <td>1066.80</td>\n",
       "      <td>Munster</td>\n",
       "      <td>Munster-David</td>\n",
       "    </tr>\n",
       "    <tr>\n",
       "      <th>3</th>\n",
       "      <td>1072</td>\n",
       "      <td>2023-08-24</td>\n",
       "      <td>Bob</td>\n",
       "      <td>39</td>\n",
       "      <td>Clothing</td>\n",
       "      <td>4330.03</td>\n",
       "      <td>4467.75</td>\n",
       "      <td>New</td>\n",
       "      <td>0.02</td>\n",
       "      <td>Credit Card</td>\n",
       "      <td>Retail</td>\n",
       "      <td>174242.25</td>\n",
       "      <td>170757.40</td>\n",
       "      <td>168871.17</td>\n",
       "      <td>1886.23</td>\n",
       "      <td>Munster</td>\n",
       "      <td>Munster-Bob</td>\n",
       "    </tr>\n",
       "    <tr>\n",
       "      <th>4</th>\n",
       "      <td>1061</td>\n",
       "      <td>2023-03-24</td>\n",
       "      <td>Charlie</td>\n",
       "      <td>13</td>\n",
       "      <td>Electronics</td>\n",
       "      <td>637.37</td>\n",
       "      <td>692.71</td>\n",
       "      <td>New</td>\n",
       "      <td>0.08</td>\n",
       "      <td>Credit Card</td>\n",
       "      <td>Online</td>\n",
       "      <td>9005.23</td>\n",
       "      <td>8284.81</td>\n",
       "      <td>8285.81</td>\n",
       "      <td>-1.00</td>\n",
       "      <td>Leinster</td>\n",
       "      <td>Leinster-Charlie</td>\n",
       "    </tr>\n",
       "  </tbody>\n",
       "</table>\n",
       "</div>"
      ],
      "text/plain": [
       "   Product_ID  Sale_Date Sales_Rep  Quantity_Sold Product_Category  Unit_Cost  \\\n",
       "0        1052 2023-02-03       Bob             18        Furniture     152.75   \n",
       "1        1093 2023-04-21       Bob             17        Furniture    3816.39   \n",
       "2        1015 2023-09-21     David             30             Food     261.56   \n",
       "3        1072 2023-08-24       Bob             39         Clothing    4330.03   \n",
       "4        1061 2023-03-24   Charlie             13      Electronics     637.37   \n",
       "\n",
       "   Unit_Sale_Price Customer_Type  Discount Payment_Method Sales_Channel  \\\n",
       "0           267.22     Returning      0.09           Cash        Online   \n",
       "1          4209.44     Returning      0.11           Cash        Retail   \n",
       "2           371.40     Returning      0.20  Bank Transfer        Retail   \n",
       "3          4467.75           New      0.02    Credit Card        Retail   \n",
       "4           692.71           New      0.08    Credit Card        Online   \n",
       "\n",
       "   Total_Sale_Amount_No_Discount  Total_Sale_Amount_with_Discount  \\\n",
       "0                        4809.96                          4377.06   \n",
       "1                       71560.48                         63688.83   \n",
       "2                       11142.00                          8913.60   \n",
       "3                      174242.25                        170757.40   \n",
       "4                        9005.23                          8284.81   \n",
       "\n",
       "   Total_Unit_Cost_of_Sale  Total_Profit_Per_Sale  Provence  \\\n",
       "0                  2749.50                1627.56    Ulster   \n",
       "1                 64878.63               -1189.80  Connacht   \n",
       "2                  7846.80                1066.80   Munster   \n",
       "3                168871.17                1886.23   Munster   \n",
       "4                  8285.81                  -1.00  Leinster   \n",
       "\n",
       "  Provence_and_Sales_Rep  \n",
       "0             Ulster-Bob  \n",
       "1           Connacht-Bob  \n",
       "2          Munster-David  \n",
       "3            Munster-Bob  \n",
       "4       Leinster-Charlie  "
      ]
     },
     "execution_count": 281,
     "metadata": {},
     "output_type": "execute_result"
    }
   ],
   "source": [
    "sales_data.head(5)"
   ]
  },
  {
   "cell_type": "markdown",
   "id": "59d65075",
   "metadata": {},
   "source": [
    "### Writing cleaned data to new CSV for Analysis and visualizations"
   ]
  },
  {
   "cell_type": "code",
   "execution_count": null,
   "id": "d143b594",
   "metadata": {},
   "outputs": [],
   "source": [
    "sales_data.to_csv(\"Data/Cleaned_Sales_Data.csv\",index=False)"
   ]
  }
 ],
 "metadata": {
  "kernelspec": {
   "display_name": "Python 3",
   "language": "python",
   "name": "python3"
  },
  "language_info": {
   "codemirror_mode": {
    "name": "ipython",
    "version": 3
   },
   "file_extension": ".py",
   "mimetype": "text/x-python",
   "name": "python",
   "nbconvert_exporter": "python",
   "pygments_lexer": "ipython3",
   "version": "3.11.9"
  }
 },
 "nbformat": 4,
 "nbformat_minor": 5
}
